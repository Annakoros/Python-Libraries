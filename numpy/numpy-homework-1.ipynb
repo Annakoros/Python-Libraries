{
 "cells": [
  {
   "cell_type": "markdown",
   "id": "0b4a04c1",
   "metadata": {},
   "source": [
    "Задание 1\n",
    "Импортируйте библиотеку Numpy и дайте ей псевдоним np.\n",
    "Создайте массив Numpy под названием a размером 5x2, то есть состоящий из 5 строк и 2 столбцов. Первый столбец должен содержать числа 1, 2, 3, 3, 1, а второй - числа 6, 8, 11, 10, 7. Будем считать, что каждый столбец - это признак, а строка - наблюдение. Затем найдите среднее значение по каждому признаку, используя метод mean массива Numpy. Результат запишите в массив mean_a, в нем должно быть 2 элемента."
   ]
  },
  {
   "cell_type": "code",
   "execution_count": null,
   "id": "f8d72355",
   "metadata": {},
   "outputs": [],
   "source": [
    "import numpy as np\n",
    "a = np.array([[1,6],\n",
    "            [2,8],\n",
    "            [3,11],\n",
    "            [3,10],\n",
    "            [1,7]])\n",
    "a"
   ]
  },
  {
   "cell_type": "code",
   "execution_count": null,
   "id": "d725f37d",
   "metadata": {},
   "outputs": [],
   "source": [
    "#первый способ\n",
    "mean_a = np.array([np.mean(a[:,[0]]), np.mean(a[:,[1]])])\n",
    "mean_a"
   ]
  },
  {
   "cell_type": "code",
   "execution_count": null,
   "id": "c7f18902",
   "metadata": {},
   "outputs": [],
   "source": [
    "#второй способ\n",
    "a_t = np.transpose(a)\n",
    "mean_a = np.array([np.mean(a_t[0]),np.mean(a_t[1])])\n",
    "mean_a"
   ]
  },
  {
   "cell_type": "markdown",
   "id": "6962bc2e",
   "metadata": {},
   "source": [
    "Задание 2\n",
    "Вычислите массив a_centered, отняв от значений массива “а” средние значения соответствующих признаков, содержащиеся в массиве mean_a. Вычисление должно производиться в одно действие. Получившийся массив должен иметь размер 5x2."
   ]
  },
  {
   "cell_type": "code",
   "execution_count": null,
   "id": "f5ad4b70",
   "metadata": {},
   "outputs": [],
   "source": [
    "a_centered = a - mean_a\n",
    "a_centered"
   ]
  },
  {
   "cell_type": "markdown",
   "id": "f13b760a",
   "metadata": {},
   "source": [
    "Задание 3\n",
    "Найдите скалярное произведение столбцов массива a_centered. В результате должна получиться величина a_centered_sp.\n",
    "Затем поделите a_centered_sp на N-1, где N - число наблюдений."
   ]
  },
  {
   "cell_type": "code",
   "execution_count": null,
   "id": "79c6c789",
   "metadata": {},
   "outputs": [],
   "source": [
    "a0 = np.transpose(a_centered)[0]\n",
    "a1 = np.transpose(a_centered)[1]\n",
    "a_centered_sp = a0.dot(a1)\n",
    "a_centered_sp"
   ]
  },
  {
   "cell_type": "code",
   "execution_count": null,
   "id": "8016a8d2",
   "metadata": {},
   "outputs": [],
   "source": [
    "N = a.shape[0]\n",
    "a_cov_1 = a_centered_sp / (N - 1)\n",
    "a_cov_1 "
   ]
  },
  {
   "cell_type": "markdown",
   "id": "764af2ee",
   "metadata": {},
   "source": [
    "Задание 4*\n",
    "Число, которое мы получили в конце задания 3, является ковариацией двух признаков, содержащихся в массиве \"а\". В задании 4 мы делили сумму произведений центрированных признаков на N-1, а не на N, поэтому полученная нами оценка является несмещенной оценкой ковариации.\n",
    "В этом задании проверьте это число, вычислив ковариацию ещё одним способом - с помощью функции np.cov. В качестве аргумента m функция np.cov должна принимать транспонированный массив \"а\". В получившейся ковариационной матрице (массив Numpy размером 2х2) искомое значение ковариации будет равно элементу в строке с индексом 0 и столбце с индексом 1."
   ]
  },
  {
   "cell_type": "code",
   "execution_count": null,
   "id": "07c1026a",
   "metadata": {},
   "outputs": [],
   "source": [
    "a_cov_2 = np.cov(np.transpose(a))\n",
    "a_cov_2"
   ]
  },
  {
   "cell_type": "markdown",
   "id": "f8c44a8a",
   "metadata": {},
   "source": [
    "Задание 5**\n",
    "Необходимо реализовать метод сортировки целых (int) элементов. Метод должен быть реализован без использования готовых методов (sorted, np.sort())."
   ]
  },
  {
   "cell_type": "code",
   "execution_count": null,
   "id": "1705101c",
   "metadata": {},
   "outputs": [],
   "source": [
    "b = np.random.randint(0,10, 10)\n",
    "b_sorted = np.array([])\n",
    "print(b)\n",
    "while b.size != 0:\n",
    "    np.insert(b_sorted,0,np.max(b))\n",
    "    np.delete(b, np.max(b))\n",
    "print(b_sorted)"
   ]
  }
 ],
 "metadata": {
  "kernelspec": {
   "display_name": "Python 3",
   "language": "python",
   "name": "python3"
  },
  "language_info": {
   "codemirror_mode": {
    "name": "ipython",
    "version": 3
   },
   "file_extension": ".py",
   "mimetype": "text/x-python",
   "name": "python",
   "nbconvert_exporter": "python",
   "pygments_lexer": "ipython3",
   "version": "3.8.8"
  }
 },
 "nbformat": 4,
 "nbformat_minor": 5
}
